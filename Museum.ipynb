{
 "cells": [
  {
   "cell_type": "markdown",
   "id": "3fd0746d",
   "metadata": {},
   "source": [
    "REQUETES:\n",
    "Combien y-a-t-il de musées en France métropolitaine ?\n",
    "Dans quelle(s) ville(s) y-a-t-il de plus de musées ?\n",
    "Quel est le nombre moyen de musées par ville ?\n",
    "Quel est le nombre médian de musées par ville ?\n",
    "Comment sont répartis les musées par type (en pourcentage) ?\n",
    "Combien y-a-t-il de musées dont le nom commence par \"Château\" ?\n",
    "Pour combien de musées dispose-t-on de l'adresse du site web ?\n",
    "Quel département français possède le plus de musées sur son territoire ?\n",
    "Quel département français possède le moins de musées sur son territoire ?\n",
    "Combien de musées ont \"Napoléon\" dans leur nom ?"
   ]
  },
  {
   "cell_type": "code",
   "execution_count": 4,
   "id": "435c50f9",
   "metadata": {},
   "outputs": [],
   "source": [
    "import numpy as np\n",
    "import pandas as pd\n",
    "\n",
    "\n",
    "#read CSV\n",
    "#import os\n",
    "#os.getcwd()\n",
    "#Desktop/THP/Data/Week1/Museums/liste-des-musees-de-france-2021.csv"
   ]
  },
  {
   "cell_type": "code",
   "execution_count": 21,
   "id": "28a1d5ea",
   "metadata": {},
   "outputs": [
    {
     "ename": "SyntaxError",
     "evalue": "invalid syntax (3436668876.py, line 1)",
     "output_type": "error",
     "traceback": [
      "\u001b[0;36m  Input \u001b[0;32mIn [21]\u001b[0;36m\u001b[0m\n\u001b[0;31m    data = pd.read_csv('/RoxaneTabatchnik/Desktop/THP/Data/Week1/Museums/liste-des-musees-de-france-2021.csv', sep=';'engine= 'python')\u001b[0m\n\u001b[0m                                                                                                                      ^\u001b[0m\n\u001b[0;31mSyntaxError\u001b[0m\u001b[0;31m:\u001b[0m invalid syntax\n"
     ]
    }
   ],
   "source": [
    "data = pd.read_csv('/RoxaneTabatchnik/Desktop/THP/Data/Week1/Museums/liste-des-musees-de-france-2021.csv', sep=';'engine= 'python')"
   ]
  },
  {
   "cell_type": "markdown",
   "id": "ac9671ac",
   "metadata": {},
   "source": [
    "## Combien y-a-t-il de musées en France métropolitaine ? "
   ]
  },
  {
   "cell_type": "code",
   "execution_count": 14,
   "id": "3aebcbfe",
   "metadata": {},
   "outputs": [
    {
     "ename": "TypeError",
     "evalue": "len() takes exactly one argument (0 given)",
     "output_type": "error",
     "traceback": [
      "\u001b[0;31m---------------------------------------------------------------------------\u001b[0m",
      "\u001b[0;31mTypeError\u001b[0m                                 Traceback (most recent call last)",
      "Input \u001b[0;32mIn [14]\u001b[0m, in \u001b[0;36m<cell line: 1>\u001b[0;34m()\u001b[0m\n\u001b[0;32m----> 1\u001b[0m \u001b[38;5;28;43mlen\u001b[39;49m\u001b[43m(\u001b[49m\u001b[43m)\u001b[49m\n",
      "\u001b[0;31mTypeError\u001b[0m: len() takes exactly one argument (0 given)"
     ]
    }
   ],
   "source": [
    "Total_of_museums_in_metropolitan_France = len()\n",
    "\n",
    "puts(Total_of_museums_in_metropolitan_France)"
   ]
  },
  {
   "cell_type": "markdown",
   "id": "3ea9a22f",
   "metadata": {},
   "source": [
    "## Dans quelle(s) ville(s) y-a-t-il de plus de musées ?"
   ]
  },
  {
   "cell_type": "code",
   "execution_count": 23,
   "id": "3dce5d52",
   "metadata": {},
   "outputs": [
    {
     "ename": "NameError",
     "evalue": "name 'city' is not defined",
     "output_type": "error",
     "traceback": [
      "\u001b[0;31m---------------------------------------------------------------------------\u001b[0m",
      "\u001b[0;31mNameError\u001b[0m                                 Traceback (most recent call last)",
      "Input \u001b[0;32mIn [23]\u001b[0m, in \u001b[0;36m<cell line: 1>\u001b[0;34m()\u001b[0m\n\u001b[0;32m----> 1\u001b[0m City_with_the_most_museums \u001b[38;5;241m=\u001b[39m \u001b[43mcity\u001b[49m\u001b[38;5;241m.\u001b[39mmax()\n\u001b[1;32m      3\u001b[0m \u001b[38;5;28mprint\u001b[39m(City_with_the_most_museums)\n",
      "\u001b[0;31mNameError\u001b[0m: name 'city' is not defined"
     ]
    }
   ],
   "source": [
    "City_with_the_most_museums = city.max()\n",
    "\n",
    "print(City_with_the_most_museums)"
   ]
  },
  {
   "cell_type": "markdown",
   "id": "ac08dcb6",
   "metadata": {},
   "source": [
    "## Quel est le nombre moyen de musées par ville ?"
   ]
  },
  {
   "cell_type": "code",
   "execution_count": 22,
   "id": "774801e1",
   "metadata": {},
   "outputs": [
    {
     "ename": "NameError",
     "evalue": "name 'city' is not defined",
     "output_type": "error",
     "traceback": [
      "\u001b[0;31m---------------------------------------------------------------------------\u001b[0m",
      "\u001b[0;31mNameError\u001b[0m                                 Traceback (most recent call last)",
      "Input \u001b[0;32mIn [22]\u001b[0m, in \u001b[0;36m<cell line: 1>\u001b[0;34m()\u001b[0m\n\u001b[0;32m----> 1\u001b[0m Average_of_museums_per_city \u001b[38;5;241m=\u001b[39m pd\u001b[38;5;241m.\u001b[39mDataFrame\u001b[38;5;241m.\u001b[39mmean(\u001b[43mcity\u001b[49m)\n\u001b[1;32m      2\u001b[0m pd\u001b[38;5;241m.\u001b[39mseries\u001b[38;5;241m.\u001b[39mmean(city)\n\u001b[1;32m      4\u001b[0m \u001b[38;5;28mprint\u001b[39m(Average_of_museums_per_city)\n",
      "\u001b[0;31mNameError\u001b[0m: name 'city' is not defined"
     ]
    }
   ],
   "source": [
    "Average_of_museums_per_city = pd.DataFrame.mean(city)\n",
    "pd.series.mean(city)\n",
    "\n",
    "print(Average_of_museums_per_city)\n",
    "#Pandas Mean will return the average of your data across a specified axis. If the function is applied to a DataFrame, pandas will return a series with the mean across an axis. If .mean() is applied to a Series, then pandas will return a scalar (single number)."
   ]
  },
  {
   "cell_type": "markdown",
   "id": "5107818a",
   "metadata": {},
   "source": [
    "## Quel est le nombre médian de musées par ville ?"
   ]
  },
  {
   "cell_type": "code",
   "execution_count": 21,
   "id": "920b3a89",
   "metadata": {},
   "outputs": [
    {
     "ename": "NameError",
     "evalue": "name 'dataframe' is not defined",
     "output_type": "error",
     "traceback": [
      "\u001b[0;31m---------------------------------------------------------------------------\u001b[0m",
      "\u001b[0;31mNameError\u001b[0m                                 Traceback (most recent call last)",
      "Input \u001b[0;32mIn [21]\u001b[0m, in \u001b[0;36m<cell line: 1>\u001b[0;34m()\u001b[0m\n\u001b[0;32m----> 1\u001b[0m Median_museums_per_city \u001b[38;5;241m=\u001b[39m \u001b[43mdataframe\u001b[49m\u001b[38;5;241m.\u001b[39mmedian(axis, skipna, level, numeric_only, kwargs)\n\u001b[1;32m      3\u001b[0m \u001b[38;5;28mprint\u001b[39m(Median_museums_per_city)\n",
      "\u001b[0;31mNameError\u001b[0m: name 'dataframe' is not defined"
     ]
    }
   ],
   "source": [
    "Median_museums_per_city = dataframe.median(axis, skipna, level, numeric_only, kwargs)\n",
    "\n",
    "print(Median_museums_per_city)"
   ]
  },
  {
   "cell_type": "markdown",
   "id": "1213938b",
   "metadata": {},
   "source": [
    "## Comment sont répartis les musées par type (en pourcentage) ?"
   ]
  },
  {
   "cell_type": "code",
   "execution_count": 29,
   "id": "407d819c",
   "metadata": {},
   "outputs": [
    {
     "name": "stdout",
     "output_type": "stream",
     "text": [
      "<function GroupBy.pct_change at 0x7fe4e9c0aee0>\n"
     ]
    }
   ],
   "source": [
    "Percentage_of_museums_per_city = pd.core.groupby.DataFrameGroupBy.pct_change\n",
    "print(Percentage_of_museums_per_city)"
   ]
  },
  {
   "cell_type": "markdown",
   "id": "3aa516fd",
   "metadata": {},
   "source": [
    "## Pour combien de musées dispose-t-on de l'adresse du site web ?"
   ]
  },
  {
   "cell_type": "code",
   "execution_count": 24,
   "id": "ca90ce66",
   "metadata": {},
   "outputs": [
    {
     "ename": "NameError",
     "evalue": "name 'website' is not defined",
     "output_type": "error",
     "traceback": [
      "\u001b[0;31m---------------------------------------------------------------------------\u001b[0m",
      "\u001b[0;31mNameError\u001b[0m                                 Traceback (most recent call last)",
      "Input \u001b[0;32mIn [24]\u001b[0m, in \u001b[0;36m<cell line: 1>\u001b[0;34m()\u001b[0m\n\u001b[0;32m----> 1\u001b[0m Total_of_museums_with_websites \u001b[38;5;241m=\u001b[39m \u001b[43mwebsite\u001b[49m\u001b[38;5;241m.\u001b[39mcount()\n\u001b[1;32m      2\u001b[0m \u001b[38;5;28mprint\u001b[39m(Total_of_museums_with_websites)\n",
      "\u001b[0;31mNameError\u001b[0m: name 'website' is not defined"
     ]
    }
   ],
   "source": [
    "Total_of_museums_with_websites = website.count()\n",
    "print(Total_of_museums_with_websites)"
   ]
  },
  {
   "cell_type": "markdown",
   "id": "41da8226",
   "metadata": {},
   "source": [
    "## Quel département français possède le plus de musées sur son territoire ?"
   ]
  },
  {
   "cell_type": "markdown",
   "id": "43b920a1",
   "metadata": {},
   "source": [
    "## Quel département français possède le moins de musées sur son territoire ?"
   ]
  },
  {
   "cell_type": "markdown",
   "id": "a3026ef5",
   "metadata": {},
   "source": [
    "## Combien de musées ont \"Napoléon\" dans leur nom ?"
   ]
  },
  {
   "cell_type": "markdown",
   "id": "d98a72d3",
   "metadata": {},
   "source": [
    "# En bonus, quelques datas disponibles afin d'analyser la fréquentation des musées en France: https://www.data.gouv.fr/fr/datasets/frequentation-des-musees-de-france-1/"
   ]
  },
  {
   "cell_type": "code",
   "execution_count": null,
   "id": "9befe16d",
   "metadata": {},
   "outputs": [],
   "source": []
  }
 ],
 "metadata": {
  "kernelspec": {
   "display_name": "Python 3 (ipykernel)",
   "language": "python",
   "name": "python3"
  },
  "language_info": {
   "codemirror_mode": {
    "name": "ipython",
    "version": 3
   },
   "file_extension": ".py",
   "mimetype": "text/x-python",
   "name": "python",
   "nbconvert_exporter": "python",
   "pygments_lexer": "ipython3",
   "version": "3.9.12"
  }
 },
 "nbformat": 4,
 "nbformat_minor": 5
}
